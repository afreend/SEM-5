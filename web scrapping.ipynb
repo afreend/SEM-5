{
 "cells": [
  {
   "cell_type": "markdown",
   "id": "b833ccb4",
   "metadata": {},
   "source": [
    "# web scrapping"
   ]
  },
  {
   "cell_type": "code",
   "execution_count": null,
   "id": "ededc2e7",
   "metadata": {},
   "outputs": [],
   "source": [
    "#pip install bs4"
   ]
  },
  {
   "cell_type": "code",
   "execution_count": 4,
   "id": "94bf5aa5",
   "metadata": {},
   "outputs": [],
   "source": [
    "from bs4 import BeautifulSoup"
   ]
  },
  {
   "cell_type": "code",
   "execution_count": 5,
   "id": "a60b6c1f",
   "metadata": {},
   "outputs": [],
   "source": [
    "import pandas as pd"
   ]
  },
  {
   "cell_type": "code",
   "execution_count": 6,
   "id": "7afa493d",
   "metadata": {},
   "outputs": [],
   "source": [
    "#pip install requests"
   ]
  },
  {
   "cell_type": "code",
   "execution_count": 7,
   "id": "5fa10a40",
   "metadata": {},
   "outputs": [],
   "source": [
    "import requests"
   ]
  },
  {
   "cell_type": "code",
   "execution_count": 26,
   "id": "442257a3",
   "metadata": {},
   "outputs": [],
   "source": [
    "url=\"https://www.shopsy.in/sarees-online\""
   ]
  },
  {
   "cell_type": "code",
   "execution_count": 27,
   "id": "72172d64",
   "metadata": {},
   "outputs": [],
   "source": [
    "response=requests.get(url)"
   ]
  },
  {
   "cell_type": "code",
   "execution_count": 28,
   "id": "bec3b1b7",
   "metadata": {},
   "outputs": [
    {
     "data": {
      "text/plain": [
       "<Response [200]>"
      ]
     },
     "execution_count": 28,
     "metadata": {},
     "output_type": "execute_result"
    }
   ],
   "source": [
    "response"
   ]
  },
  {
   "cell_type": "code",
   "execution_count": 29,
   "id": "55d98add",
   "metadata": {},
   "outputs": [],
   "source": [
    "Back_code=BeautifulSoup(response.text)"
   ]
  },
  {
   "cell_type": "code",
   "execution_count": 12,
   "id": "59108ace",
   "metadata": {},
   "outputs": [
    {
     "data": {
      "text/plain": [
       "<!DOCTYPE html>\n",
       "<html><head><title>Online Shopping India Mobile, Cameras, Lifestyle &amp; more Online @ Flipkart.com</title><meta content=\"IE=edge\" http-equiv=\"X-UA-Compatible\"/><style>html,\n",
       "        body {\n",
       "            font-family: Roboto, arial, tahoma, verdana, sans-serif;\n",
       "            height: 100%;\n",
       "            margin: 0;\n",
       "        }\n",
       "\n",
       "        .btn {\n",
       "            border-radius: 4px;\n",
       "            margin-top: 16px;\n",
       "            display: inline-block;\n",
       "            color: #fff;\n",
       "            font-family: inter_semi_bold, Arial, sans-serif;\n",
       "            border: none;\n",
       "            font-size: inherit;\n",
       "            cursor: pointer;\n",
       "            width: 328px;\n",
       "            height: 40px;\n",
       "        }\n",
       "\n",
       "        .disable_btn {\n",
       "            background-color: #808080;\n",
       "            cursor: not-allowed;\n",
       "        }\n",
       "\n",
       "        #retry_btn {\n",
       "            background-color: #2A55E5;\n",
       "            display: none;\n",
       "        }</style></head><body><div style=\"background-color:#2874f0;height:78px;text-align:center;\"><div style=\"width: 978px;margin: 0 auto;padding-top: 2px;text-align:left;\"><div style=\"margin-top: 15px; text-align: center\"><img src=\"http://img1a.flixcart.com/www/linchpin/fk-cp-zion/img/fk-logo_9fddff.png\" style=\"border: none;\" width=\"149\"/></div></div></div><div style=\"text-align: center; font-size: 14px; padding: 20px; position: absolute;left: 50%; top: 50%; transform: translate(-50%, -50%);\"><div><img alt=\"\" id=\"IMG_3\" src=\"https://rukminim2.flixcart.com/www/444/333/promos/28/09/2023/735e2a1e-ab96-41c2-b875-56c25c233a29.png?q=100\"/><div style=\"font-size: 20px; margin-top: 30px; font-weight: 600;\">Lot of rush for the best offers!</div><div style=\"font-size: 17px;  margin-top: 10px; color: #666666;\">We're finding the best way to get you there faster.</div></div><button class=\"btn disable_btn\" id=\"timer_text\">Retry in 10 sec</button> <button class=\"btn\" id=\"retry_btn\" type=\"button\">Try now</button></div><script nonce=\"17768211374727744558\">let seconds = 10;\n",
       "        const timerText = document.getElementById(\"timer_text\")\n",
       "        const retryBtn = document.getElementById(\"retry_btn\")\n",
       "        // Update the count down every 1 second\n",
       "        var timerId = setInterval(function () {\n",
       "            timerText.innerHTML = `Retry in ${seconds--} sec`;\n",
       "            if (seconds < 0) {\n",
       "                clearInterval(timerId);\n",
       "                timerText.remove()\n",
       "                retryBtn.style.display = \"inline\"\n",
       "            }\n",
       "        }, 1000);\n",
       "        retryBtn.addEventListener('click', function () { window.location.reload() })</script></body></html>"
      ]
     },
     "execution_count": 12,
     "metadata": {},
     "output_type": "execute_result"
    }
   ],
   "source": [
    "Back_code"
   ]
  },
  {
   "cell_type": "code",
   "execution_count": 32,
   "id": "0707da6d",
   "metadata": {},
   "outputs": [],
   "source": [
    "product_name=Back_code.select(\".r-zl2h9q.r-1udh08x\")"
   ]
  },
  {
   "cell_type": "code",
   "execution_count": 33,
   "id": "f4b7e172",
   "metadata": {},
   "outputs": [
    {
     "data": {
      "text/plain": [
       "[<span class=\"css-1jxf684 r-op4f77 r-1et8rh5 r-1b43r93 r-14yzgew r-zl2h9q r-1udh08x\">Twixxle Woven Kanjivaram Cotton Silk, Art Silk Saree</span>,\n",
       " <span class=\"css-1jxf684 r-op4f77 r-1et8rh5 r-1b43r93 r-14yzgew r-zl2h9q r-1udh08x\">Twixxle Woven Kanjivaram Cotton Silk, Art Silk Saree</span>,\n",
       " <span class=\"css-1jxf684 r-op4f77 r-1et8rh5 r-1b43r93 r-14yzgew r-zl2h9q r-1udh08x\">Floral Print, Striped, Printed Bollywood Georgette Saree</span>,\n",
       " <span class=\"css-1jxf684 r-op4f77 r-1et8rh5 r-1b43r93 r-14yzgew r-zl2h9q r-1udh08x\">Woven Kanjivaram Pure Silk Saree</span>,\n",
       " <span class=\"css-1jxf684 r-op4f77 r-1et8rh5 r-1b43r93 r-14yzgew r-zl2h9q r-1udh08x\">Twixxle Woven Kanjivaram Cotton Silk, Art Silk Saree</span>,\n",
       " <span class=\"css-1jxf684 r-op4f77 r-1et8rh5 r-1b43r93 r-14yzgew r-zl2h9q r-1udh08x\">Pionex Woven Banarasi Cotton Silk Saree</span>,\n",
       " <span class=\"css-1jxf684 r-op4f77 r-1et8rh5 r-1b43r93 r-14yzgew r-zl2h9q r-1udh08x\">Floral Print, Solid, Self Design, Printed Bollywood Tissue, Net Saree</span>,\n",
       " <span class=\"css-1jxf684 r-op4f77 r-1et8rh5 r-1b43r93 r-14yzgew r-zl2h9q r-1udh08x\">Woven Kanjivaram Pure Silk Saree</span>,\n",
       " <span class=\"css-1jxf684 r-op4f77 r-1et8rh5 r-1b43r93 r-14yzgew r-zl2h9q r-1udh08x\">Woven Kanjivaram Pure Silk Saree</span>,\n",
       " <span class=\"css-1jxf684 r-op4f77 r-1et8rh5 r-1b43r93 r-14yzgew r-zl2h9q r-1udh08x\">Self Design Paithani Art Silk Saree</span>,\n",
       " <span class=\"css-1jxf684 r-op4f77 r-1et8rh5 r-1b43r93 r-14yzgew r-zl2h9q r-1udh08x\">Floral Print, Solid, Self Design, Printed Bollywood Tissue, Net Saree</span>,\n",
       " <span class=\"css-1jxf684 r-op4f77 r-1et8rh5 r-1b43r93 r-14yzgew r-zl2h9q r-1udh08x\">Solid Fashion Georgette Saree</span>,\n",
       " <span class=\"css-1jxf684 r-op4f77 r-1et8rh5 r-1b43r93 r-14yzgew r-zl2h9q r-1udh08x\">Floral Print, Solid, Self Design, Printed Bollywood Net Saree</span>,\n",
       " <span class=\"css-1jxf684 r-op4f77 r-1et8rh5 r-1b43r93 r-14yzgew r-zl2h9q r-1udh08x\">Bollywood Georgette Saree</span>,\n",
       " <span class=\"css-1jxf684 r-op4f77 r-1et8rh5 r-1b43r93 r-14yzgew r-zl2h9q r-1udh08x\">Printed Mysore Art Silk Saree</span>,\n",
       " <span class=\"css-1jxf684 r-op4f77 r-1et8rh5 r-1b43r93 r-14yzgew r-zl2h9q r-1udh08x\">Solid Fashion Georgette Saree</span>,\n",
       " <span class=\"css-1jxf684 r-op4f77 r-1et8rh5 r-1b43r93 r-14yzgew r-zl2h9q r-1udh08x\">Embroidered Fashion Georgette Saree</span>,\n",
       " <span class=\"css-1jxf684 r-op4f77 r-1et8rh5 r-1b43r93 r-14yzgew r-zl2h9q r-1udh08x\">Self Design Fashion Georgette, Chiffon Saree</span>,\n",
       " <span class=\"css-1jxf684 r-op4f77 r-1et8rh5 r-1b43r93 r-14yzgew r-zl2h9q r-1udh08x\">Graphic Print Bollywood Georgette Saree</span>,\n",
       " <span class=\"css-1jxf684 r-op4f77 r-1et8rh5 r-1b43r93 r-14yzgew r-zl2h9q r-1udh08x\">Woven Kanjivaram Pure Silk Saree</span>,\n",
       " <span class=\"css-1jxf684 r-op4f77 r-1et8rh5 r-1b43r93 r-14yzgew r-zl2h9q r-1udh08x\">Floral Print, Solid, Self Design, Printed Bollywood Tissue, Net Saree</span>,\n",
       " <span class=\"css-1jxf684 r-op4f77 r-1et8rh5 r-1b43r93 r-14yzgew r-zl2h9q r-1udh08x\">Floral Print, Solid, Self Design, Printed Bollywood Tissue, Net Saree</span>,\n",
       " <span class=\"css-1jxf684 r-op4f77 r-1et8rh5 r-1b43r93 r-14yzgew r-zl2h9q r-1udh08x\">Woven Kanjivaram Pure Silk Saree</span>,\n",
       " <span class=\"css-1jxf684 r-op4f77 r-1et8rh5 r-1b43r93 r-14yzgew r-zl2h9q r-1udh08x\">Printed Bollywood Georgette Saree</span>,\n",
       " <span class=\"css-1jxf684 r-op4f77 r-1et8rh5 r-1b43r93 r-14yzgew r-zl2h9q r-1udh08x\">Printed Bollywood Georgette Saree</span>,\n",
       " <span class=\"css-1jxf684 r-op4f77 r-1et8rh5 r-1b43r93 r-14yzgew r-zl2h9q r-1udh08x\">Color Block Fashion Georgette, Chiffon Saree</span>,\n",
       " <span class=\"css-1jxf684 r-op4f77 r-1et8rh5 r-1b43r93 r-14yzgew r-zl2h9q r-1udh08x\">Self Design Fashion Georgette, Chiffon Saree</span>,\n",
       " <span class=\"css-1jxf684 r-op4f77 r-1et8rh5 r-1b43r93 r-14yzgew r-zl2h9q r-1udh08x\">Printed Bollywood Georgette Saree</span>,\n",
       " <span class=\"css-1jxf684 r-op4f77 r-1et8rh5 r-1b43r93 r-14yzgew r-zl2h9q r-1udh08x\">Floral Print Bollywood Georgette Saree</span>,\n",
       " <span class=\"css-1jxf684 r-op4f77 r-1et8rh5 r-1b43r93 r-14yzgew r-zl2h9q r-1udh08x\">Bollywood Lycra Blend, Velvet Saree</span>,\n",
       " <span class=\"css-1jxf684 r-op4f77 r-1et8rh5 r-1b43r93 r-14yzgew r-zl2h9q r-1udh08x\">Floral Print Bollywood Georgette, Chiffon Saree</span>,\n",
       " <span class=\"css-1jxf684 r-op4f77 r-1et8rh5 r-1b43r93 r-14yzgew r-zl2h9q r-1udh08x\">Woven Kanjivaram Pure Silk Saree</span>,\n",
       " <span class=\"css-1jxf684 r-op4f77 r-1et8rh5 r-1b43r93 r-14yzgew r-zl2h9q r-1udh08x\">Embroidered Fashion Georgette Saree</span>,\n",
       " <span class=\"css-1jxf684 r-op4f77 r-1et8rh5 r-1b43r93 r-14yzgew r-zl2h9q r-1udh08x\">Embroidered Fashion Net Saree</span>,\n",
       " <span class=\"css-1jxf684 r-op4f77 r-1et8rh5 r-1b43r93 r-14yzgew r-zl2h9q r-1udh08x\">Patola Georgette Saree</span>,\n",
       " <span class=\"css-1jxf684 r-op4f77 r-1et8rh5 r-1b43r93 r-14yzgew r-zl2h9q r-1udh08x\">Woven Kanjivaram Pure Silk Saree</span>,\n",
       " <span class=\"css-1jxf684 r-op4f77 r-1et8rh5 r-1b43r93 r-14yzgew r-zl2h9q r-1udh08x\">Floral Print Banarasi Pure Cotton Saree</span>,\n",
       " <span class=\"css-1jxf684 r-op4f77 r-1et8rh5 r-1b43r93 r-14yzgew r-zl2h9q r-1udh08x\">Self Design Bollywood Lycra Blend Saree</span>,\n",
       " <span class=\"css-1jxf684 r-op4f77 r-1et8rh5 r-1b43r93 r-14yzgew r-zl2h9q r-1udh08x\">Floral Print, Solid, Self Design, Printed Daily Wear Tissue, Net Saree</span>,\n",
       " <span class=\"css-1jxf684 r-op4f77 r-1et8rh5 r-1b43r93 r-14yzgew r-zl2h9q r-1udh08x\">Solid Leheria Silk Blend, Net Saree</span>]"
      ]
     },
     "execution_count": 33,
     "metadata": {},
     "output_type": "execute_result"
    }
   ],
   "source": [
    "product_name"
   ]
  },
  {
   "cell_type": "code",
   "execution_count": 34,
   "id": "4d82fb62",
   "metadata": {},
   "outputs": [],
   "source": [
    "price=Back_code.select(\".r-1rsjblm.r-13hce6t\")"
   ]
  },
  {
   "cell_type": "code",
   "execution_count": 35,
   "id": "04cd121c",
   "metadata": {},
   "outputs": [
    {
     "data": {
      "text/plain": [
       "[<div class=\"css-146c3p1 r-cqee49 r-1vgyyaa r-ubezar r-1rsjblm r-13hce6t\" dir=\"auto\">₹499</div>,\n",
       " <div class=\"css-146c3p1 r-cqee49 r-1vgyyaa r-ubezar r-1rsjblm r-13hce6t\" dir=\"auto\">₹499</div>,\n",
       " <div class=\"css-146c3p1 r-cqee49 r-1vgyyaa r-ubezar r-1rsjblm r-13hce6t\" dir=\"auto\">₹263</div>,\n",
       " <div class=\"css-146c3p1 r-cqee49 r-1vgyyaa r-ubezar r-1rsjblm r-13hce6t\" dir=\"auto\">₹389</div>,\n",
       " <div class=\"css-146c3p1 r-cqee49 r-1vgyyaa r-ubezar r-1rsjblm r-13hce6t\" dir=\"auto\">₹497</div>,\n",
       " <div class=\"css-146c3p1 r-cqee49 r-1vgyyaa r-ubezar r-1rsjblm r-13hce6t\" dir=\"auto\">₹499</div>,\n",
       " <div class=\"css-146c3p1 r-cqee49 r-1vgyyaa r-ubezar r-1rsjblm r-13hce6t\" dir=\"auto\">₹105</div>,\n",
       " <div class=\"css-146c3p1 r-cqee49 r-1vgyyaa r-ubezar r-1rsjblm r-13hce6t\" dir=\"auto\">₹375</div>,\n",
       " <div class=\"css-146c3p1 r-cqee49 r-1vgyyaa r-ubezar r-1rsjblm r-13hce6t\" dir=\"auto\">₹376</div>,\n",
       " <div class=\"css-146c3p1 r-cqee49 r-1vgyyaa r-ubezar r-1rsjblm r-13hce6t\" dir=\"auto\">₹246</div>,\n",
       " <div class=\"css-146c3p1 r-cqee49 r-1vgyyaa r-ubezar r-1rsjblm r-13hce6t\" dir=\"auto\">₹120</div>,\n",
       " <div class=\"css-146c3p1 r-cqee49 r-1vgyyaa r-ubezar r-1rsjblm r-13hce6t\" dir=\"auto\">₹375</div>,\n",
       " <div class=\"css-146c3p1 r-cqee49 r-1vgyyaa r-ubezar r-1rsjblm r-13hce6t\" dir=\"auto\">₹115</div>,\n",
       " <div class=\"css-146c3p1 r-cqee49 r-1vgyyaa r-ubezar r-1rsjblm r-13hce6t\" dir=\"auto\">₹239</div>,\n",
       " <div class=\"css-146c3p1 r-cqee49 r-1vgyyaa r-ubezar r-1rsjblm r-13hce6t\" dir=\"auto\">₹242</div>,\n",
       " <div class=\"css-146c3p1 r-cqee49 r-1vgyyaa r-ubezar r-1rsjblm r-13hce6t\" dir=\"auto\">₹375</div>,\n",
       " <div class=\"css-146c3p1 r-cqee49 r-1vgyyaa r-ubezar r-1rsjblm r-13hce6t\" dir=\"auto\">₹373</div>,\n",
       " <div class=\"css-146c3p1 r-cqee49 r-1vgyyaa r-ubezar r-1rsjblm r-13hce6t\" dir=\"auto\">₹356</div>,\n",
       " <div class=\"css-146c3p1 r-cqee49 r-1vgyyaa r-ubezar r-1rsjblm r-13hce6t\" dir=\"auto\">₹243</div>,\n",
       " <div class=\"css-146c3p1 r-cqee49 r-1vgyyaa r-ubezar r-1rsjblm r-13hce6t\" dir=\"auto\">₹376</div>,\n",
       " <div class=\"css-146c3p1 r-cqee49 r-1vgyyaa r-ubezar r-1rsjblm r-13hce6t\" dir=\"auto\">₹112</div>,\n",
       " <div class=\"css-146c3p1 r-cqee49 r-1vgyyaa r-ubezar r-1rsjblm r-13hce6t\" dir=\"auto\">₹107</div>,\n",
       " <div class=\"css-146c3p1 r-cqee49 r-1vgyyaa r-ubezar r-1rsjblm r-13hce6t\" dir=\"auto\">₹376</div>,\n",
       " <div class=\"css-146c3p1 r-cqee49 r-1vgyyaa r-ubezar r-1rsjblm r-13hce6t\" dir=\"auto\">₹263</div>,\n",
       " <div class=\"css-146c3p1 r-cqee49 r-1vgyyaa r-ubezar r-1rsjblm r-13hce6t\" dir=\"auto\">₹256</div>,\n",
       " <div class=\"css-146c3p1 r-cqee49 r-1vgyyaa r-ubezar r-1rsjblm r-13hce6t\" dir=\"auto\">₹357</div>,\n",
       " <div class=\"css-146c3p1 r-cqee49 r-1vgyyaa r-ubezar r-1rsjblm r-13hce6t\" dir=\"auto\">₹356</div>,\n",
       " <div class=\"css-146c3p1 r-cqee49 r-1vgyyaa r-ubezar r-1rsjblm r-13hce6t\" dir=\"auto\">₹234</div>,\n",
       " <div class=\"css-146c3p1 r-cqee49 r-1vgyyaa r-ubezar r-1rsjblm r-13hce6t\" dir=\"auto\">₹239</div>,\n",
       " <div class=\"css-146c3p1 r-cqee49 r-1vgyyaa r-ubezar r-1rsjblm r-13hce6t\" dir=\"auto\">₹285</div>,\n",
       " <div class=\"css-146c3p1 r-cqee49 r-1vgyyaa r-ubezar r-1rsjblm r-13hce6t\" dir=\"auto\">₹354</div>,\n",
       " <div class=\"css-146c3p1 r-cqee49 r-1vgyyaa r-ubezar r-1rsjblm r-13hce6t\" dir=\"auto\">₹376</div>,\n",
       " <div class=\"css-146c3p1 r-cqee49 r-1vgyyaa r-ubezar r-1rsjblm r-13hce6t\" dir=\"auto\">₹374</div>,\n",
       " <div class=\"css-146c3p1 r-cqee49 r-1vgyyaa r-ubezar r-1rsjblm r-13hce6t\" dir=\"auto\">₹341</div>,\n",
       " <div class=\"css-146c3p1 r-cqee49 r-1vgyyaa r-ubezar r-1rsjblm r-13hce6t\" dir=\"auto\">₹323</div>,\n",
       " <div class=\"css-146c3p1 r-cqee49 r-1vgyyaa r-ubezar r-1rsjblm r-13hce6t\" dir=\"auto\">₹399</div>,\n",
       " <div class=\"css-146c3p1 r-cqee49 r-1vgyyaa r-ubezar r-1rsjblm r-13hce6t\" dir=\"auto\">₹240</div>,\n",
       " <div class=\"css-146c3p1 r-cqee49 r-1vgyyaa r-ubezar r-1rsjblm r-13hce6t\" dir=\"auto\">₹299</div>,\n",
       " <div class=\"css-146c3p1 r-cqee49 r-1vgyyaa r-ubezar r-1rsjblm r-13hce6t\" dir=\"auto\">₹102</div>,\n",
       " <div class=\"css-146c3p1 r-cqee49 r-1vgyyaa r-ubezar r-1rsjblm r-13hce6t\" dir=\"auto\">₹243</div>]"
      ]
     },
     "execution_count": 35,
     "metadata": {},
     "output_type": "execute_result"
    }
   ],
   "source": [
    "price"
   ]
  },
  {
   "cell_type": "code",
   "execution_count": 36,
   "id": "a791def5",
   "metadata": {},
   "outputs": [],
   "source": [
    "data_frame_price=pd.DataFrame(product_name,columns=[\"name\"])"
   ]
  },
  {
   "cell_type": "code",
   "execution_count": 37,
   "id": "0f505727",
   "metadata": {},
   "outputs": [],
   "source": [
    "data_frame_price[\"price\"]=price\n"
   ]
  },
  {
   "cell_type": "code",
   "execution_count": 38,
   "id": "2a9f9279",
   "metadata": {},
   "outputs": [
    {
     "data": {
      "text/html": [
       "<div>\n",
       "<style scoped>\n",
       "    .dataframe tbody tr th:only-of-type {\n",
       "        vertical-align: middle;\n",
       "    }\n",
       "\n",
       "    .dataframe tbody tr th {\n",
       "        vertical-align: top;\n",
       "    }\n",
       "\n",
       "    .dataframe thead th {\n",
       "        text-align: right;\n",
       "    }\n",
       "</style>\n",
       "<table border=\"1\" class=\"dataframe\">\n",
       "  <thead>\n",
       "    <tr style=\"text-align: right;\">\n",
       "      <th></th>\n",
       "      <th>name</th>\n",
       "      <th>price</th>\n",
       "    </tr>\n",
       "  </thead>\n",
       "  <tbody>\n",
       "    <tr>\n",
       "      <th>0</th>\n",
       "      <td>Twixxle Woven Kanjivaram Cotton Silk, Art Silk...</td>\n",
       "      <td>[₹499]</td>\n",
       "    </tr>\n",
       "    <tr>\n",
       "      <th>1</th>\n",
       "      <td>Twixxle Woven Kanjivaram Cotton Silk, Art Silk...</td>\n",
       "      <td>[₹499]</td>\n",
       "    </tr>\n",
       "    <tr>\n",
       "      <th>2</th>\n",
       "      <td>Floral Print, Striped, Printed Bollywood Georg...</td>\n",
       "      <td>[₹263]</td>\n",
       "    </tr>\n",
       "    <tr>\n",
       "      <th>3</th>\n",
       "      <td>Woven Kanjivaram Pure Silk Saree</td>\n",
       "      <td>[₹389]</td>\n",
       "    </tr>\n",
       "    <tr>\n",
       "      <th>4</th>\n",
       "      <td>Twixxle Woven Kanjivaram Cotton Silk, Art Silk...</td>\n",
       "      <td>[₹497]</td>\n",
       "    </tr>\n",
       "    <tr>\n",
       "      <th>5</th>\n",
       "      <td>Pionex Woven Banarasi Cotton Silk Saree</td>\n",
       "      <td>[₹499]</td>\n",
       "    </tr>\n",
       "    <tr>\n",
       "      <th>6</th>\n",
       "      <td>Floral Print, Solid, Self Design, Printed Boll...</td>\n",
       "      <td>[₹105]</td>\n",
       "    </tr>\n",
       "    <tr>\n",
       "      <th>7</th>\n",
       "      <td>Woven Kanjivaram Pure Silk Saree</td>\n",
       "      <td>[₹375]</td>\n",
       "    </tr>\n",
       "    <tr>\n",
       "      <th>8</th>\n",
       "      <td>Woven Kanjivaram Pure Silk Saree</td>\n",
       "      <td>[₹376]</td>\n",
       "    </tr>\n",
       "    <tr>\n",
       "      <th>9</th>\n",
       "      <td>Self Design Paithani Art Silk Saree</td>\n",
       "      <td>[₹246]</td>\n",
       "    </tr>\n",
       "    <tr>\n",
       "      <th>10</th>\n",
       "      <td>Floral Print, Solid, Self Design, Printed Boll...</td>\n",
       "      <td>[₹120]</td>\n",
       "    </tr>\n",
       "    <tr>\n",
       "      <th>11</th>\n",
       "      <td>Solid Fashion Georgette Saree</td>\n",
       "      <td>[₹375]</td>\n",
       "    </tr>\n",
       "    <tr>\n",
       "      <th>12</th>\n",
       "      <td>Floral Print, Solid, Self Design, Printed Boll...</td>\n",
       "      <td>[₹115]</td>\n",
       "    </tr>\n",
       "    <tr>\n",
       "      <th>13</th>\n",
       "      <td>Bollywood Georgette Saree</td>\n",
       "      <td>[₹239]</td>\n",
       "    </tr>\n",
       "    <tr>\n",
       "      <th>14</th>\n",
       "      <td>Printed Mysore Art Silk Saree</td>\n",
       "      <td>[₹242]</td>\n",
       "    </tr>\n",
       "    <tr>\n",
       "      <th>15</th>\n",
       "      <td>Solid Fashion Georgette Saree</td>\n",
       "      <td>[₹375]</td>\n",
       "    </tr>\n",
       "    <tr>\n",
       "      <th>16</th>\n",
       "      <td>Embroidered Fashion Georgette Saree</td>\n",
       "      <td>[₹373]</td>\n",
       "    </tr>\n",
       "    <tr>\n",
       "      <th>17</th>\n",
       "      <td>Self Design Fashion Georgette, Chiffon Saree</td>\n",
       "      <td>[₹356]</td>\n",
       "    </tr>\n",
       "    <tr>\n",
       "      <th>18</th>\n",
       "      <td>Graphic Print Bollywood Georgette Saree</td>\n",
       "      <td>[₹243]</td>\n",
       "    </tr>\n",
       "    <tr>\n",
       "      <th>19</th>\n",
       "      <td>Woven Kanjivaram Pure Silk Saree</td>\n",
       "      <td>[₹376]</td>\n",
       "    </tr>\n",
       "    <tr>\n",
       "      <th>20</th>\n",
       "      <td>Floral Print, Solid, Self Design, Printed Boll...</td>\n",
       "      <td>[₹112]</td>\n",
       "    </tr>\n",
       "    <tr>\n",
       "      <th>21</th>\n",
       "      <td>Floral Print, Solid, Self Design, Printed Boll...</td>\n",
       "      <td>[₹107]</td>\n",
       "    </tr>\n",
       "    <tr>\n",
       "      <th>22</th>\n",
       "      <td>Woven Kanjivaram Pure Silk Saree</td>\n",
       "      <td>[₹376]</td>\n",
       "    </tr>\n",
       "    <tr>\n",
       "      <th>23</th>\n",
       "      <td>Printed Bollywood Georgette Saree</td>\n",
       "      <td>[₹263]</td>\n",
       "    </tr>\n",
       "    <tr>\n",
       "      <th>24</th>\n",
       "      <td>Printed Bollywood Georgette Saree</td>\n",
       "      <td>[₹256]</td>\n",
       "    </tr>\n",
       "    <tr>\n",
       "      <th>25</th>\n",
       "      <td>Color Block Fashion Georgette, Chiffon Saree</td>\n",
       "      <td>[₹357]</td>\n",
       "    </tr>\n",
       "    <tr>\n",
       "      <th>26</th>\n",
       "      <td>Self Design Fashion Georgette, Chiffon Saree</td>\n",
       "      <td>[₹356]</td>\n",
       "    </tr>\n",
       "    <tr>\n",
       "      <th>27</th>\n",
       "      <td>Printed Bollywood Georgette Saree</td>\n",
       "      <td>[₹234]</td>\n",
       "    </tr>\n",
       "    <tr>\n",
       "      <th>28</th>\n",
       "      <td>Floral Print Bollywood Georgette Saree</td>\n",
       "      <td>[₹239]</td>\n",
       "    </tr>\n",
       "    <tr>\n",
       "      <th>29</th>\n",
       "      <td>Bollywood Lycra Blend, Velvet Saree</td>\n",
       "      <td>[₹285]</td>\n",
       "    </tr>\n",
       "    <tr>\n",
       "      <th>30</th>\n",
       "      <td>Floral Print Bollywood Georgette, Chiffon Saree</td>\n",
       "      <td>[₹354]</td>\n",
       "    </tr>\n",
       "    <tr>\n",
       "      <th>31</th>\n",
       "      <td>Woven Kanjivaram Pure Silk Saree</td>\n",
       "      <td>[₹376]</td>\n",
       "    </tr>\n",
       "    <tr>\n",
       "      <th>32</th>\n",
       "      <td>Embroidered Fashion Georgette Saree</td>\n",
       "      <td>[₹374]</td>\n",
       "    </tr>\n",
       "    <tr>\n",
       "      <th>33</th>\n",
       "      <td>Embroidered Fashion Net Saree</td>\n",
       "      <td>[₹341]</td>\n",
       "    </tr>\n",
       "    <tr>\n",
       "      <th>34</th>\n",
       "      <td>Patola Georgette Saree</td>\n",
       "      <td>[₹323]</td>\n",
       "    </tr>\n",
       "    <tr>\n",
       "      <th>35</th>\n",
       "      <td>Woven Kanjivaram Pure Silk Saree</td>\n",
       "      <td>[₹399]</td>\n",
       "    </tr>\n",
       "    <tr>\n",
       "      <th>36</th>\n",
       "      <td>Floral Print Banarasi Pure Cotton Saree</td>\n",
       "      <td>[₹240]</td>\n",
       "    </tr>\n",
       "    <tr>\n",
       "      <th>37</th>\n",
       "      <td>Self Design Bollywood Lycra Blend Saree</td>\n",
       "      <td>[₹299]</td>\n",
       "    </tr>\n",
       "    <tr>\n",
       "      <th>38</th>\n",
       "      <td>Floral Print, Solid, Self Design, Printed Dail...</td>\n",
       "      <td>[₹102]</td>\n",
       "    </tr>\n",
       "    <tr>\n",
       "      <th>39</th>\n",
       "      <td>Solid Leheria Silk Blend, Net Saree</td>\n",
       "      <td>[₹243]</td>\n",
       "    </tr>\n",
       "  </tbody>\n",
       "</table>\n",
       "</div>"
      ],
      "text/plain": [
       "                                                 name   price\n",
       "0   Twixxle Woven Kanjivaram Cotton Silk, Art Silk...  [₹499]\n",
       "1   Twixxle Woven Kanjivaram Cotton Silk, Art Silk...  [₹499]\n",
       "2   Floral Print, Striped, Printed Bollywood Georg...  [₹263]\n",
       "3                    Woven Kanjivaram Pure Silk Saree  [₹389]\n",
       "4   Twixxle Woven Kanjivaram Cotton Silk, Art Silk...  [₹497]\n",
       "5             Pionex Woven Banarasi Cotton Silk Saree  [₹499]\n",
       "6   Floral Print, Solid, Self Design, Printed Boll...  [₹105]\n",
       "7                    Woven Kanjivaram Pure Silk Saree  [₹375]\n",
       "8                    Woven Kanjivaram Pure Silk Saree  [₹376]\n",
       "9                 Self Design Paithani Art Silk Saree  [₹246]\n",
       "10  Floral Print, Solid, Self Design, Printed Boll...  [₹120]\n",
       "11                      Solid Fashion Georgette Saree  [₹375]\n",
       "12  Floral Print, Solid, Self Design, Printed Boll...  [₹115]\n",
       "13                          Bollywood Georgette Saree  [₹239]\n",
       "14                      Printed Mysore Art Silk Saree  [₹242]\n",
       "15                      Solid Fashion Georgette Saree  [₹375]\n",
       "16                Embroidered Fashion Georgette Saree  [₹373]\n",
       "17       Self Design Fashion Georgette, Chiffon Saree  [₹356]\n",
       "18            Graphic Print Bollywood Georgette Saree  [₹243]\n",
       "19                   Woven Kanjivaram Pure Silk Saree  [₹376]\n",
       "20  Floral Print, Solid, Self Design, Printed Boll...  [₹112]\n",
       "21  Floral Print, Solid, Self Design, Printed Boll...  [₹107]\n",
       "22                   Woven Kanjivaram Pure Silk Saree  [₹376]\n",
       "23                  Printed Bollywood Georgette Saree  [₹263]\n",
       "24                  Printed Bollywood Georgette Saree  [₹256]\n",
       "25       Color Block Fashion Georgette, Chiffon Saree  [₹357]\n",
       "26       Self Design Fashion Georgette, Chiffon Saree  [₹356]\n",
       "27                  Printed Bollywood Georgette Saree  [₹234]\n",
       "28             Floral Print Bollywood Georgette Saree  [₹239]\n",
       "29                Bollywood Lycra Blend, Velvet Saree  [₹285]\n",
       "30    Floral Print Bollywood Georgette, Chiffon Saree  [₹354]\n",
       "31                   Woven Kanjivaram Pure Silk Saree  [₹376]\n",
       "32                Embroidered Fashion Georgette Saree  [₹374]\n",
       "33                      Embroidered Fashion Net Saree  [₹341]\n",
       "34                             Patola Georgette Saree  [₹323]\n",
       "35                   Woven Kanjivaram Pure Silk Saree  [₹399]\n",
       "36            Floral Print Banarasi Pure Cotton Saree  [₹240]\n",
       "37            Self Design Bollywood Lycra Blend Saree  [₹299]\n",
       "38  Floral Print, Solid, Self Design, Printed Dail...  [₹102]\n",
       "39                Solid Leheria Silk Blend, Net Saree  [₹243]"
      ]
     },
     "execution_count": 38,
     "metadata": {},
     "output_type": "execute_result"
    }
   ],
   "source": [
    "data_frame_price"
   ]
  },
  {
   "cell_type": "code",
   "execution_count": 39,
   "id": "1c8af5b3",
   "metadata": {},
   "outputs": [],
   "source": [
    "data_frame_price.to_csv(\"product_name.csv\")"
   ]
  },
  {
   "cell_type": "code",
   "execution_count": null,
   "id": "23db762b",
   "metadata": {},
   "outputs": [],
   "source": []
  }
 ],
 "metadata": {
  "kernelspec": {
   "display_name": "Python 3 (ipykernel)",
   "language": "python",
   "name": "python3"
  },
  "language_info": {
   "codemirror_mode": {
    "name": "ipython",
    "version": 3
   },
   "file_extension": ".py",
   "mimetype": "text/x-python",
   "name": "python",
   "nbconvert_exporter": "python",
   "pygments_lexer": "ipython3",
   "version": "3.11.5"
  }
 },
 "nbformat": 4,
 "nbformat_minor": 5
}
